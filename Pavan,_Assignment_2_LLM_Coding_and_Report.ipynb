{
  "nbformat": 4,
  "nbformat_minor": 0,
  "metadata": {
    "colab": {
      "provenance": [],
      "machine_shape": "hm",
      "gpuType": "A100"
    },
    "kernelspec": {
      "name": "python3",
      "display_name": "Python 3"
    },
    "language_info": {
      "name": "python"
    },
    "accelerator": "GPU",
    "widgets": {
      "application/vnd.jupyter.widget-state+json": {
        "b13c84a0a75c4c878e07a853dadb7f1b": {
          "model_module": "@jupyter-widgets/controls",
          "model_name": "HBoxModel",
          "model_module_version": "1.5.0",
          "state": {
            "_dom_classes": [],
            "_model_module": "@jupyter-widgets/controls",
            "_model_module_version": "1.5.0",
            "_model_name": "HBoxModel",
            "_view_count": null,
            "_view_module": "@jupyter-widgets/controls",
            "_view_module_version": "1.5.0",
            "_view_name": "HBoxView",
            "box_style": "",
            "children": [
              "IPY_MODEL_5de60a39c3844446a62b6e25abc0a5ce",
              "IPY_MODEL_79a6c9636bb24b4b9496f1afdc294f37",
              "IPY_MODEL_81fd7988e6224754b526e5493eb4554e"
            ],
            "layout": "IPY_MODEL_682ab7114aa049fa80c60aa96fbacc9b"
          }
        },
        "5de60a39c3844446a62b6e25abc0a5ce": {
          "model_module": "@jupyter-widgets/controls",
          "model_name": "HTMLModel",
          "model_module_version": "1.5.0",
          "state": {
            "_dom_classes": [],
            "_model_module": "@jupyter-widgets/controls",
            "_model_module_version": "1.5.0",
            "_model_name": "HTMLModel",
            "_view_count": null,
            "_view_module": "@jupyter-widgets/controls",
            "_view_module_version": "1.5.0",
            "_view_name": "HTMLView",
            "description": "",
            "description_tooltip": null,
            "layout": "IPY_MODEL_69107c24d9e0402b823fafcba8bc08be",
            "placeholder": "​",
            "style": "IPY_MODEL_2772de4f61eb46c6a070d93f5b3dfa8d",
            "value": "Map: 100%"
          }
        },
        "79a6c9636bb24b4b9496f1afdc294f37": {
          "model_module": "@jupyter-widgets/controls",
          "model_name": "FloatProgressModel",
          "model_module_version": "1.5.0",
          "state": {
            "_dom_classes": [],
            "_model_module": "@jupyter-widgets/controls",
            "_model_module_version": "1.5.0",
            "_model_name": "FloatProgressModel",
            "_view_count": null,
            "_view_module": "@jupyter-widgets/controls",
            "_view_module_version": "1.5.0",
            "_view_name": "ProgressView",
            "bar_style": "success",
            "description": "",
            "description_tooltip": null,
            "layout": "IPY_MODEL_a6bc1f04755d4a818d510521f093d46e",
            "max": 2194,
            "min": 0,
            "orientation": "horizontal",
            "style": "IPY_MODEL_4e0b7b3bb363486695ab35efde86b9fa",
            "value": 2194
          }
        },
        "81fd7988e6224754b526e5493eb4554e": {
          "model_module": "@jupyter-widgets/controls",
          "model_name": "HTMLModel",
          "model_module_version": "1.5.0",
          "state": {
            "_dom_classes": [],
            "_model_module": "@jupyter-widgets/controls",
            "_model_module_version": "1.5.0",
            "_model_name": "HTMLModel",
            "_view_count": null,
            "_view_module": "@jupyter-widgets/controls",
            "_view_module_version": "1.5.0",
            "_view_name": "HTMLView",
            "description": "",
            "description_tooltip": null,
            "layout": "IPY_MODEL_4182aa6f94624f4e826c8c26b827ef7b",
            "placeholder": "​",
            "style": "IPY_MODEL_f5c8e62ba0f24fe0a71861a7bfe44044",
            "value": " 2194/2194 [00:05&lt;00:00, 466.08 examples/s]"
          }
        },
        "682ab7114aa049fa80c60aa96fbacc9b": {
          "model_module": "@jupyter-widgets/base",
          "model_name": "LayoutModel",
          "model_module_version": "1.2.0",
          "state": {
            "_model_module": "@jupyter-widgets/base",
            "_model_module_version": "1.2.0",
            "_model_name": "LayoutModel",
            "_view_count": null,
            "_view_module": "@jupyter-widgets/base",
            "_view_module_version": "1.2.0",
            "_view_name": "LayoutView",
            "align_content": null,
            "align_items": null,
            "align_self": null,
            "border": null,
            "bottom": null,
            "display": null,
            "flex": null,
            "flex_flow": null,
            "grid_area": null,
            "grid_auto_columns": null,
            "grid_auto_flow": null,
            "grid_auto_rows": null,
            "grid_column": null,
            "grid_gap": null,
            "grid_row": null,
            "grid_template_areas": null,
            "grid_template_columns": null,
            "grid_template_rows": null,
            "height": null,
            "justify_content": null,
            "justify_items": null,
            "left": null,
            "margin": null,
            "max_height": null,
            "max_width": null,
            "min_height": null,
            "min_width": null,
            "object_fit": null,
            "object_position": null,
            "order": null,
            "overflow": null,
            "overflow_x": null,
            "overflow_y": null,
            "padding": null,
            "right": null,
            "top": null,
            "visibility": null,
            "width": null
          }
        },
        "69107c24d9e0402b823fafcba8bc08be": {
          "model_module": "@jupyter-widgets/base",
          "model_name": "LayoutModel",
          "model_module_version": "1.2.0",
          "state": {
            "_model_module": "@jupyter-widgets/base",
            "_model_module_version": "1.2.0",
            "_model_name": "LayoutModel",
            "_view_count": null,
            "_view_module": "@jupyter-widgets/base",
            "_view_module_version": "1.2.0",
            "_view_name": "LayoutView",
            "align_content": null,
            "align_items": null,
            "align_self": null,
            "border": null,
            "bottom": null,
            "display": null,
            "flex": null,
            "flex_flow": null,
            "grid_area": null,
            "grid_auto_columns": null,
            "grid_auto_flow": null,
            "grid_auto_rows": null,
            "grid_column": null,
            "grid_gap": null,
            "grid_row": null,
            "grid_template_areas": null,
            "grid_template_columns": null,
            "grid_template_rows": null,
            "height": null,
            "justify_content": null,
            "justify_items": null,
            "left": null,
            "margin": null,
            "max_height": null,
            "max_width": null,
            "min_height": null,
            "min_width": null,
            "object_fit": null,
            "object_position": null,
            "order": null,
            "overflow": null,
            "overflow_x": null,
            "overflow_y": null,
            "padding": null,
            "right": null,
            "top": null,
            "visibility": null,
            "width": null
          }
        },
        "2772de4f61eb46c6a070d93f5b3dfa8d": {
          "model_module": "@jupyter-widgets/controls",
          "model_name": "DescriptionStyleModel",
          "model_module_version": "1.5.0",
          "state": {
            "_model_module": "@jupyter-widgets/controls",
            "_model_module_version": "1.5.0",
            "_model_name": "DescriptionStyleModel",
            "_view_count": null,
            "_view_module": "@jupyter-widgets/base",
            "_view_module_version": "1.2.0",
            "_view_name": "StyleView",
            "description_width": ""
          }
        },
        "a6bc1f04755d4a818d510521f093d46e": {
          "model_module": "@jupyter-widgets/base",
          "model_name": "LayoutModel",
          "model_module_version": "1.2.0",
          "state": {
            "_model_module": "@jupyter-widgets/base",
            "_model_module_version": "1.2.0",
            "_model_name": "LayoutModel",
            "_view_count": null,
            "_view_module": "@jupyter-widgets/base",
            "_view_module_version": "1.2.0",
            "_view_name": "LayoutView",
            "align_content": null,
            "align_items": null,
            "align_self": null,
            "border": null,
            "bottom": null,
            "display": null,
            "flex": null,
            "flex_flow": null,
            "grid_area": null,
            "grid_auto_columns": null,
            "grid_auto_flow": null,
            "grid_auto_rows": null,
            "grid_column": null,
            "grid_gap": null,
            "grid_row": null,
            "grid_template_areas": null,
            "grid_template_columns": null,
            "grid_template_rows": null,
            "height": null,
            "justify_content": null,
            "justify_items": null,
            "left": null,
            "margin": null,
            "max_height": null,
            "max_width": null,
            "min_height": null,
            "min_width": null,
            "object_fit": null,
            "object_position": null,
            "order": null,
            "overflow": null,
            "overflow_x": null,
            "overflow_y": null,
            "padding": null,
            "right": null,
            "top": null,
            "visibility": null,
            "width": null
          }
        },
        "4e0b7b3bb363486695ab35efde86b9fa": {
          "model_module": "@jupyter-widgets/controls",
          "model_name": "ProgressStyleModel",
          "model_module_version": "1.5.0",
          "state": {
            "_model_module": "@jupyter-widgets/controls",
            "_model_module_version": "1.5.0",
            "_model_name": "ProgressStyleModel",
            "_view_count": null,
            "_view_module": "@jupyter-widgets/base",
            "_view_module_version": "1.2.0",
            "_view_name": "StyleView",
            "bar_color": null,
            "description_width": ""
          }
        },
        "4182aa6f94624f4e826c8c26b827ef7b": {
          "model_module": "@jupyter-widgets/base",
          "model_name": "LayoutModel",
          "model_module_version": "1.2.0",
          "state": {
            "_model_module": "@jupyter-widgets/base",
            "_model_module_version": "1.2.0",
            "_model_name": "LayoutModel",
            "_view_count": null,
            "_view_module": "@jupyter-widgets/base",
            "_view_module_version": "1.2.0",
            "_view_name": "LayoutView",
            "align_content": null,
            "align_items": null,
            "align_self": null,
            "border": null,
            "bottom": null,
            "display": null,
            "flex": null,
            "flex_flow": null,
            "grid_area": null,
            "grid_auto_columns": null,
            "grid_auto_flow": null,
            "grid_auto_rows": null,
            "grid_column": null,
            "grid_gap": null,
            "grid_row": null,
            "grid_template_areas": null,
            "grid_template_columns": null,
            "grid_template_rows": null,
            "height": null,
            "justify_content": null,
            "justify_items": null,
            "left": null,
            "margin": null,
            "max_height": null,
            "max_width": null,
            "min_height": null,
            "min_width": null,
            "object_fit": null,
            "object_position": null,
            "order": null,
            "overflow": null,
            "overflow_x": null,
            "overflow_y": null,
            "padding": null,
            "right": null,
            "top": null,
            "visibility": null,
            "width": null
          }
        },
        "f5c8e62ba0f24fe0a71861a7bfe44044": {
          "model_module": "@jupyter-widgets/controls",
          "model_name": "DescriptionStyleModel",
          "model_module_version": "1.5.0",
          "state": {
            "_model_module": "@jupyter-widgets/controls",
            "_model_module_version": "1.5.0",
            "_model_name": "DescriptionStyleModel",
            "_view_count": null,
            "_view_module": "@jupyter-widgets/base",
            "_view_module_version": "1.2.0",
            "_view_name": "StyleView",
            "description_width": ""
          }
        },
        "661fc757d04648df8ce8675496028c13": {
          "model_module": "@jupyter-widgets/controls",
          "model_name": "HBoxModel",
          "model_module_version": "1.5.0",
          "state": {
            "_dom_classes": [],
            "_model_module": "@jupyter-widgets/controls",
            "_model_module_version": "1.5.0",
            "_model_name": "HBoxModel",
            "_view_count": null,
            "_view_module": "@jupyter-widgets/controls",
            "_view_module_version": "1.5.0",
            "_view_name": "HBoxView",
            "box_style": "",
            "children": [
              "IPY_MODEL_62323be324bd4486a07f40d754c526bf",
              "IPY_MODEL_1ac9364811b446c3868c0c36b6392a13",
              "IPY_MODEL_8b1878c349ff4cd1a5ff0d389f546433"
            ],
            "layout": "IPY_MODEL_4b1e09a8ef5e484b961f578bee51f461"
          }
        },
        "62323be324bd4486a07f40d754c526bf": {
          "model_module": "@jupyter-widgets/controls",
          "model_name": "HTMLModel",
          "model_module_version": "1.5.0",
          "state": {
            "_dom_classes": [],
            "_model_module": "@jupyter-widgets/controls",
            "_model_module_version": "1.5.0",
            "_model_name": "HTMLModel",
            "_view_count": null,
            "_view_module": "@jupyter-widgets/controls",
            "_view_module_version": "1.5.0",
            "_view_name": "HTMLView",
            "description": "",
            "description_tooltip": null,
            "layout": "IPY_MODEL_81148eaf6a124593a6ee9260dab775e9",
            "placeholder": "​",
            "style": "IPY_MODEL_1f607e14ac2a427bb2ec950a61655f46",
            "value": "Map: 100%"
          }
        },
        "1ac9364811b446c3868c0c36b6392a13": {
          "model_module": "@jupyter-widgets/controls",
          "model_name": "FloatProgressModel",
          "model_module_version": "1.5.0",
          "state": {
            "_dom_classes": [],
            "_model_module": "@jupyter-widgets/controls",
            "_model_module_version": "1.5.0",
            "_model_name": "FloatProgressModel",
            "_view_count": null,
            "_view_module": "@jupyter-widgets/controls",
            "_view_module_version": "1.5.0",
            "_view_name": "ProgressView",
            "bar_style": "success",
            "description": "",
            "description_tooltip": null,
            "layout": "IPY_MODEL_0b2d6005ecad457e8c965268cdeea012",
            "max": 100,
            "min": 0,
            "orientation": "horizontal",
            "style": "IPY_MODEL_bf350aba4dc842edaef24727680e2bf4",
            "value": 100
          }
        },
        "8b1878c349ff4cd1a5ff0d389f546433": {
          "model_module": "@jupyter-widgets/controls",
          "model_name": "HTMLModel",
          "model_module_version": "1.5.0",
          "state": {
            "_dom_classes": [],
            "_model_module": "@jupyter-widgets/controls",
            "_model_module_version": "1.5.0",
            "_model_name": "HTMLModel",
            "_view_count": null,
            "_view_module": "@jupyter-widgets/controls",
            "_view_module_version": "1.5.0",
            "_view_name": "HTMLView",
            "description": "",
            "description_tooltip": null,
            "layout": "IPY_MODEL_679afd8e054d49e79b5a239f19e19427",
            "placeholder": "​",
            "style": "IPY_MODEL_0304e4048d534d4d9535827c44547ce6",
            "value": " 100/100 [00:00&lt;00:00, 369.15 examples/s]"
          }
        },
        "4b1e09a8ef5e484b961f578bee51f461": {
          "model_module": "@jupyter-widgets/base",
          "model_name": "LayoutModel",
          "model_module_version": "1.2.0",
          "state": {
            "_model_module": "@jupyter-widgets/base",
            "_model_module_version": "1.2.0",
            "_model_name": "LayoutModel",
            "_view_count": null,
            "_view_module": "@jupyter-widgets/base",
            "_view_module_version": "1.2.0",
            "_view_name": "LayoutView",
            "align_content": null,
            "align_items": null,
            "align_self": null,
            "border": null,
            "bottom": null,
            "display": null,
            "flex": null,
            "flex_flow": null,
            "grid_area": null,
            "grid_auto_columns": null,
            "grid_auto_flow": null,
            "grid_auto_rows": null,
            "grid_column": null,
            "grid_gap": null,
            "grid_row": null,
            "grid_template_areas": null,
            "grid_template_columns": null,
            "grid_template_rows": null,
            "height": null,
            "justify_content": null,
            "justify_items": null,
            "left": null,
            "margin": null,
            "max_height": null,
            "max_width": null,
            "min_height": null,
            "min_width": null,
            "object_fit": null,
            "object_position": null,
            "order": null,
            "overflow": null,
            "overflow_x": null,
            "overflow_y": null,
            "padding": null,
            "right": null,
            "top": null,
            "visibility": null,
            "width": null
          }
        },
        "81148eaf6a124593a6ee9260dab775e9": {
          "model_module": "@jupyter-widgets/base",
          "model_name": "LayoutModel",
          "model_module_version": "1.2.0",
          "state": {
            "_model_module": "@jupyter-widgets/base",
            "_model_module_version": "1.2.0",
            "_model_name": "LayoutModel",
            "_view_count": null,
            "_view_module": "@jupyter-widgets/base",
            "_view_module_version": "1.2.0",
            "_view_name": "LayoutView",
            "align_content": null,
            "align_items": null,
            "align_self": null,
            "border": null,
            "bottom": null,
            "display": null,
            "flex": null,
            "flex_flow": null,
            "grid_area": null,
            "grid_auto_columns": null,
            "grid_auto_flow": null,
            "grid_auto_rows": null,
            "grid_column": null,
            "grid_gap": null,
            "grid_row": null,
            "grid_template_areas": null,
            "grid_template_columns": null,
            "grid_template_rows": null,
            "height": null,
            "justify_content": null,
            "justify_items": null,
            "left": null,
            "margin": null,
            "max_height": null,
            "max_width": null,
            "min_height": null,
            "min_width": null,
            "object_fit": null,
            "object_position": null,
            "order": null,
            "overflow": null,
            "overflow_x": null,
            "overflow_y": null,
            "padding": null,
            "right": null,
            "top": null,
            "visibility": null,
            "width": null
          }
        },
        "1f607e14ac2a427bb2ec950a61655f46": {
          "model_module": "@jupyter-widgets/controls",
          "model_name": "DescriptionStyleModel",
          "model_module_version": "1.5.0",
          "state": {
            "_model_module": "@jupyter-widgets/controls",
            "_model_module_version": "1.5.0",
            "_model_name": "DescriptionStyleModel",
            "_view_count": null,
            "_view_module": "@jupyter-widgets/base",
            "_view_module_version": "1.2.0",
            "_view_name": "StyleView",
            "description_width": ""
          }
        },
        "0b2d6005ecad457e8c965268cdeea012": {
          "model_module": "@jupyter-widgets/base",
          "model_name": "LayoutModel",
          "model_module_version": "1.2.0",
          "state": {
            "_model_module": "@jupyter-widgets/base",
            "_model_module_version": "1.2.0",
            "_model_name": "LayoutModel",
            "_view_count": null,
            "_view_module": "@jupyter-widgets/base",
            "_view_module_version": "1.2.0",
            "_view_name": "LayoutView",
            "align_content": null,
            "align_items": null,
            "align_self": null,
            "border": null,
            "bottom": null,
            "display": null,
            "flex": null,
            "flex_flow": null,
            "grid_area": null,
            "grid_auto_columns": null,
            "grid_auto_flow": null,
            "grid_auto_rows": null,
            "grid_column": null,
            "grid_gap": null,
            "grid_row": null,
            "grid_template_areas": null,
            "grid_template_columns": null,
            "grid_template_rows": null,
            "height": null,
            "justify_content": null,
            "justify_items": null,
            "left": null,
            "margin": null,
            "max_height": null,
            "max_width": null,
            "min_height": null,
            "min_width": null,
            "object_fit": null,
            "object_position": null,
            "order": null,
            "overflow": null,
            "overflow_x": null,
            "overflow_y": null,
            "padding": null,
            "right": null,
            "top": null,
            "visibility": null,
            "width": null
          }
        },
        "bf350aba4dc842edaef24727680e2bf4": {
          "model_module": "@jupyter-widgets/controls",
          "model_name": "ProgressStyleModel",
          "model_module_version": "1.5.0",
          "state": {
            "_model_module": "@jupyter-widgets/controls",
            "_model_module_version": "1.5.0",
            "_model_name": "ProgressStyleModel",
            "_view_count": null,
            "_view_module": "@jupyter-widgets/base",
            "_view_module_version": "1.2.0",
            "_view_name": "StyleView",
            "bar_color": null,
            "description_width": ""
          }
        },
        "679afd8e054d49e79b5a239f19e19427": {
          "model_module": "@jupyter-widgets/base",
          "model_name": "LayoutModel",
          "model_module_version": "1.2.0",
          "state": {
            "_model_module": "@jupyter-widgets/base",
            "_model_module_version": "1.2.0",
            "_model_name": "LayoutModel",
            "_view_count": null,
            "_view_module": "@jupyter-widgets/base",
            "_view_module_version": "1.2.0",
            "_view_name": "LayoutView",
            "align_content": null,
            "align_items": null,
            "align_self": null,
            "border": null,
            "bottom": null,
            "display": null,
            "flex": null,
            "flex_flow": null,
            "grid_area": null,
            "grid_auto_columns": null,
            "grid_auto_flow": null,
            "grid_auto_rows": null,
            "grid_column": null,
            "grid_gap": null,
            "grid_row": null,
            "grid_template_areas": null,
            "grid_template_columns": null,
            "grid_template_rows": null,
            "height": null,
            "justify_content": null,
            "justify_items": null,
            "left": null,
            "margin": null,
            "max_height": null,
            "max_width": null,
            "min_height": null,
            "min_width": null,
            "object_fit": null,
            "object_position": null,
            "order": null,
            "overflow": null,
            "overflow_x": null,
            "overflow_y": null,
            "padding": null,
            "right": null,
            "top": null,
            "visibility": null,
            "width": null
          }
        },
        "0304e4048d534d4d9535827c44547ce6": {
          "model_module": "@jupyter-widgets/controls",
          "model_name": "DescriptionStyleModel",
          "model_module_version": "1.5.0",
          "state": {
            "_model_module": "@jupyter-widgets/controls",
            "_model_module_version": "1.5.0",
            "_model_name": "DescriptionStyleModel",
            "_view_count": null,
            "_view_module": "@jupyter-widgets/base",
            "_view_module_version": "1.2.0",
            "_view_name": "StyleView",
            "description_width": ""
          }
        }
      }
    }
  },
  "cells": [
    {
      "cell_type": "code",
      "execution_count": 138,
      "metadata": {
        "id": "RmgMEVFwOcd7"
      },
      "outputs": [],
      "source": [
        "import pandas as pd\n",
        "import numpy as np\n",
        "from transformers import T5Tokenizer, T5ForConditionalGeneration, Trainer, TrainingArguments\n",
        "from sklearn.model_selection import train_test_split\n",
        "import evaluate\n",
        "import torch\n",
        "import os\n",
        "import requests\n",
        "import json\n",
        "import gzip\n",
        "import zipfile\n",
        "import matplotlib.pyplot as plt\n",
        "from google.colab import files\n",
        "import re"
      ]
    },
    {
      "cell_type": "code",
      "source": [
        "# 1. Load and Preprocess the Dataset\n",
        "def load_and_preprocess_data(max_samples=3000):\n",
        "    print(\"Loading dataset...\")\n",
        "    local_path = \"/tmp/code_search_net_python\"\n",
        "    os.makedirs(local_path, exist_ok=True)\n",
        "    zip_file = os.path.join(local_path, \"python.zip\")\n",
        "    data_file = os.path.join(local_path, \"python/final/jsonl/train/python_train_0.jsonl.gz\")\n",
        "\n",
        "    if not os.path.exists(data_file):\n",
        "        print(\"Downloading CodeSearchNet subset from Zenodo...\")\n",
        "        url = \"https://zenodo.org/record/7857872/files/python.zip\"\n",
        "        try:\n",
        "            response = requests.get(url, stream=True)\n",
        "            response.raise_for_status()\n",
        "            with open(zip_file, \"wb\") as f:\n",
        "                for chunk in response.iter_content(chunk_size=8192):\n",
        "                    f.write(chunk)\n",
        "            print(\"Download complete.\")\n",
        "            with zipfile.ZipFile(zip_file, \"r\") as z:\n",
        "                z.extractall(local_path)\n",
        "            print(\"Extraction complete.\")\n",
        "        except Exception as e:\n",
        "            print(f\"Error downloading or extracting dataset: {str(e)}\")\n",
        "            raise Exception(\"Unable to download dataset. Check connectivity.\")\n",
        "\n",
        "    prompts = []\n",
        "    codes = []\n",
        "\n",
        "    def normalize_code(code):\n",
        "        \"\"\"Normalize code by removing comments, extra whitespace, and standardizing indentation.\"\"\"\n",
        "        code = re.sub(r'#.*?\\n', '\\n', code)  # Remove comments\n",
        "        code = re.sub(r'\\s+', ' ', code.strip())  # Normalize whitespace\n",
        "        return code\n",
        "\n",
        "    try:\n",
        "        with gzip.open(data_file, \"rt\", encoding=\"utf-8\") as f:\n",
        "            for i, line in enumerate(f):\n",
        "                if i >= max_samples:\n",
        "                    break\n",
        "                try:\n",
        "                    example = json.loads(line.strip())\n",
        "                    docstring = example.get(\"docstring\", \"\").strip()\n",
        "                    code = example.get(\"code\", \"\").strip()\n",
        "                    if docstring and code and len(docstring.split()) > 10:  # Ensure meaningful docstrings\n",
        "                        prompts.append(f\"Generate Python code: {docstring}\")\n",
        "                        codes.append(normalize_code(code))\n",
        "                except json.JSONDecodeError:\n",
        "                    continue\n",
        "    except Exception as e:\n",
        "        print(f\"Error processing dataset: {str(e)}\")\n",
        "        raise Exception(\"Unable to process dataset. Check file integrity.\")\n",
        "\n",
        "    if not prompts:\n",
        "        raise Exception(\"No valid docstring-code pairs found in dataset.\")\n",
        "\n",
        "    df = pd.DataFrame({\"prompt\": prompts, \"code\": codes})\n",
        "    train_df, val_df = train_test_split(df, test_size=0.2, random_state=42)\n",
        "\n",
        "    return train_df, val_df.head(100)"
      ],
      "metadata": {
        "id": "Q-s1zl7kOrkG"
      },
      "execution_count": 171,
      "outputs": []
    },
    {
      "cell_type": "code",
      "source": [
        "# 2. Tokenize the Data\n",
        "def tokenize_data(train_df, val_df, model_name=\"t5-base\"):\n",
        "    tokenizer = T5Tokenizer.from_pretrained(model_name)\n",
        "\n",
        "    def tokenize_batch(examples):\n",
        "        inputs = tokenizer(\n",
        "            examples[\"prompt\"], padding=\"max_length\", truncation=True, max_length=128\n",
        "        )\n",
        "        targets = tokenizer(\n",
        "            examples[\"code\"], padding=\"max_length\", truncation=True, max_length=512\n",
        "        )\n",
        "        inputs[\"labels\"] = targets[\"input_ids\"]\n",
        "        return inputs\n",
        "\n",
        "    from datasets import Dataset\n",
        "    train_dataset = Dataset.from_pandas(train_df.reset_index(drop=True))\n",
        "    val_dataset = Dataset.from_pandas(val_df.reset_index(drop=True))\n",
        "\n",
        "    train_dataset = train_dataset.map(tokenize_batch, batched=True, batch_size=32)\n",
        "    val_dataset = val_dataset.map(tokenize_batch, batched=True, batch_size=32)\n",
        "\n",
        "    return train_dataset, val_dataset, tokenizer"
      ],
      "metadata": {
        "id": "Rp851TLEPLvk"
      },
      "execution_count": 172,
      "outputs": []
    },
    {
      "cell_type": "code",
      "source": [
        "# 3. Fine-Tune the T5 Model\n",
        "def fine_tune_model(train_dataset, val_dataset, model_name=\"t5-base\"):\n",
        "    model = T5ForConditionalGeneration.from_pretrained(model_name)\n",
        "\n",
        "    training_args = TrainingArguments(\n",
        "        output_dir=\"/tmp/t5_code_gen\",\n",
        "        num_train_epochs=5,  # Increased for better convergence\n",
        "        per_device_train_batch_size=2,\n",
        "        per_device_eval_batch_size=2,\n",
        "        gradient_accumulation_steps=4,  # Effective batch size of 8\n",
        "        warmup_steps=100,\n",
        "        weight_decay=0.01,\n",
        "        learning_rate=2e-5,\n",
        "        lr_scheduler_type=\"cosine\",  # Stabilize training\n",
        "        logging_dir=\"/tmp/logs\",\n",
        "        logging_steps=25,\n",
        "        eval_strategy=\"epoch\",\n",
        "        save_strategy=\"epoch\",\n",
        "        save_total_limit=1,\n",
        "        load_best_model_at_end=True,\n",
        "        fp16=True,\n",
        "    )\n",
        "\n",
        "    trainer = Trainer(\n",
        "        model=model,\n",
        "        args=training_args,\n",
        "        train_dataset=train_dataset,\n",
        "        eval_dataset=val_dataset,\n",
        "    )\n",
        "\n",
        "    trainer.train()\n",
        "    torch.cuda.empty_cache()  # Clear GPU memory\n",
        "\n",
        "    return model, trainer"
      ],
      "metadata": {
        "id": "nMRtvSe8PN_7"
      },
      "execution_count": 173,
      "outputs": []
    },
    {
      "cell_type": "code",
      "source": [
        "# 4. Evaluate the Model\n",
        "def evaluate_model(model, tokenizer, val_df):\n",
        "    bleu = evaluate.load(\"bleu\")\n",
        "    model.eval()\n",
        "    predictions = []\n",
        "    references = []\n",
        "    bleu_scores = []\n",
        "\n",
        "    def normalize_text(text):\n",
        "        return re.sub(r'\\s+', ' ', text.strip())\n",
        "\n",
        "    for idx, row in val_df.iterrows():\n",
        "        if not row[\"prompt\"].strip() or not row[\"code\"].strip():\n",
        "            print(f\"Skipping empty sample at index {idx}: prompt='{row['prompt']}', code='{row['code']}'\")\n",
        "            continue\n",
        "\n",
        "        inputs = tokenizer(\n",
        "            row[\"prompt\"], return_tensors=\"pt\", padding=True, truncation=True, max_length=128\n",
        "        ).to(model.device)\n",
        "        try:\n",
        "            outputs = model.generate(\n",
        "                inputs[\"input_ids\"],\n",
        "                max_length=512,\n",
        "                num_beams=10,\n",
        "                top_k=50,\n",
        "                do_sample=True,  # Enable sampling\n",
        "                no_repeat_ngram_size=3,  # Increased to avoid repetition\n",
        "                early_stopping=True,\n",
        "                length_penalty=1.0\n",
        "            )\n",
        "            pred_code = normalize_text(tokenizer.decode(outputs[0], skip_special_tokens=True))\n",
        "            ref_code = normalize_text(row[\"code\"])\n",
        "\n",
        "            if not pred_code:\n",
        "                print(f\"Skipping empty prediction at index {idx}: prompt='{row['prompt']}'\")\n",
        "                continue\n",
        "\n",
        "            predictions.append(pred_code)\n",
        "            references.append([ref_code])\n",
        "\n",
        "            try:\n",
        "                bleu_score = bleu.compute(\n",
        "                    predictions=[pred_code],\n",
        "                    references=[[ref_code]],\n",
        "                    max_order=2,\n",
        "                    smooth=True\n",
        "                )\n",
        "                bleu_scores.append(bleu_score['bleu'])\n",
        "                if idx < 10:\n",
        "                    print(f\"Sample {idx}:\")\n",
        "                    print(f\"  Prompt: {row['prompt']}\")\n",
        "                    print(f\"  Prediction: {pred_code}\")\n",
        "                    print(f\"  Reference: {ref_code}\")\n",
        "                    print(f\"  BLEU: {bleu_score['bleu']}\")\n",
        "            except Exception as e:\n",
        "                print(f\"BLEU computation failed at index {idx}: {str(e)}\")\n",
        "                bleu_scores.append(0.0)\n",
        "        except Exception as e:\n",
        "            print(f\"Generation failed at index {idx}: {str(e)}\")\n",
        "            continue\n",
        "        finally:\n",
        "            torch.cuda.empty_cache()\n",
        "\n",
        "    try:\n",
        "        if predictions and references:\n",
        "            overall_bleu = bleu.compute(\n",
        "                predictions=predictions,\n",
        "                references=references,\n",
        "                max_order=2,\n",
        "                smooth=True\n",
        "            )\n",
        "        else:\n",
        "            print(\"No valid predictions/references for overall BLEU computation.\")\n",
        "            overall_bleu = {'bleu': 0.0}\n",
        "    except Exception as e:\n",
        "        print(f\"Overall BLEU computation failed: {str(e)}\")\n",
        "        overall_bleu = {'bleu': 0.0}\n",
        "\n",
        "    return overall_bleu, predictions, references, bleu_scores"
      ],
      "metadata": {
        "id": "TaggffY6PQYl"
      },
      "execution_count": 183,
      "outputs": []
    },
    {
      "cell_type": "code",
      "source": [
        "# 5. Generate Code from a Prompt\n",
        "def generate_code(model, tokenizer, prompt):\n",
        "    inputs = tokenizer(\n",
        "        f\"Generate Python code: {prompt}\", return_tensors=\"pt\", padding=True, truncation=True, max_length=128\n",
        "    ).to(model.device)\n",
        "    outputs = model.generate(\n",
        "        inputs[\"input_ids\"],\n",
        "        max_length=512,\n",
        "        num_beams=10,\n",
        "        top_k=50,\n",
        "        top_p=0.9,\n",
        "        no_repeat_ngram_size=2,\n",
        "        early_stopping=True,\n",
        "        length_penalty=1.0\n",
        "    )\n",
        "    generated_code = tokenizer.decode(outputs[0], skip_special_tokens=True)\n",
        "    torch.cuda.empty_cache()\n",
        "    return generated_code"
      ],
      "metadata": {
        "id": "0DwukksiPT1K"
      },
      "execution_count": 175,
      "outputs": []
    },
    {
      "cell_type": "code",
      "source": [
        "# 6. Interactive CLI\n",
        "def interactive_code_generator(model, tokenizer):\n",
        "    print(\"Welcome to the T5 Code Generator!\")\n",
        "    print(\"Enter a prompt (e.g., 'Write a Python function to calculate factorial'). Type 'exit' to quit.\")\n",
        "\n",
        "    while True:\n",
        "        user_prompt = input(\"\\nEnter your prompt: \")\n",
        "        if user_prompt.lower() == \"exit\":\n",
        "            print(\"Exiting code generator.\")\n",
        "            break\n",
        "        if not user_prompt.strip():\n",
        "            print(\"Please enter a valid prompt.\")\n",
        "            continue\n",
        "\n",
        "        try:\n",
        "            generated_code = generate_code(model, tokenizer, user_prompt)\n",
        "            print(f\"\\nGenerated Code:\\n{generated_code}\")\n",
        "        except Exception as e:\n",
        "            print(f\"Error generating code: {str(e)}\")"
      ],
      "metadata": {
        "id": "Q5rL7-ORPVpA"
      },
      "execution_count": 176,
      "outputs": []
    },
    {
      "cell_type": "code",
      "source": [
        "# 7. Generate BLEU Score Histogram\n",
        "def plot_bleu_histogram(bleu_scores):\n",
        "    plt.hist(bleu_scores, bins=20, color='blue', alpha=0.7)\n",
        "    plt.xlabel('BLEU Score')\n",
        "    plt.ylabel('Frequency')\n",
        "    plt.title('BLEU Score Distribution')\n",
        "    plt.show()"
      ],
      "metadata": {
        "id": "3XpeDKpHRdXK"
      },
      "execution_count": 177,
      "outputs": []
    },
    {
      "cell_type": "code",
      "source": [
        "# Set device\n",
        "device = torch.device(\"cuda\" if torch.cuda.is_available() else \"cpu\")\n",
        "print(f\"Using device: {device}\")"
      ],
      "metadata": {
        "colab": {
          "base_uri": "https://localhost:8080/"
        },
        "id": "nkwrHTGWPYOK",
        "outputId": "436fb820-30db-408e-e7bc-f3d59a809e3e"
      },
      "execution_count": 178,
      "outputs": [
        {
          "output_type": "stream",
          "name": "stdout",
          "text": [
            "Using device: cuda\n"
          ]
        }
      ]
    },
    {
      "cell_type": "code",
      "source": [
        "# Step 1: Load and preprocess data\n",
        "print(\"Loading and preprocessing data...\")\n",
        "train_df, val_df = load_and_preprocess_data(max_samples=4000)"
      ],
      "metadata": {
        "colab": {
          "base_uri": "https://localhost:8080/"
        },
        "id": "OCJ7yNSkPdbV",
        "outputId": "217d921c-d02f-45cb-9111-6be65a1df3bd"
      },
      "execution_count": 179,
      "outputs": [
        {
          "output_type": "stream",
          "name": "stdout",
          "text": [
            "Loading and preprocessing data...\n",
            "Loading dataset...\n"
          ]
        }
      ]
    },
    {
      "cell_type": "code",
      "source": [
        "# Step 2: Tokenize data\n",
        "print(\"Tokenizing data...\")\n",
        "train_dataset, val_dataset, tokenizer = tokenize_data(train_df, val_df)"
      ],
      "metadata": {
        "colab": {
          "base_uri": "https://localhost:8080/",
          "height": 98,
          "referenced_widgets": [
            "b13c84a0a75c4c878e07a853dadb7f1b",
            "5de60a39c3844446a62b6e25abc0a5ce",
            "79a6c9636bb24b4b9496f1afdc294f37",
            "81fd7988e6224754b526e5493eb4554e",
            "682ab7114aa049fa80c60aa96fbacc9b",
            "69107c24d9e0402b823fafcba8bc08be",
            "2772de4f61eb46c6a070d93f5b3dfa8d",
            "a6bc1f04755d4a818d510521f093d46e",
            "4e0b7b3bb363486695ab35efde86b9fa",
            "4182aa6f94624f4e826c8c26b827ef7b",
            "f5c8e62ba0f24fe0a71861a7bfe44044",
            "661fc757d04648df8ce8675496028c13",
            "62323be324bd4486a07f40d754c526bf",
            "1ac9364811b446c3868c0c36b6392a13",
            "8b1878c349ff4cd1a5ff0d389f546433",
            "4b1e09a8ef5e484b961f578bee51f461",
            "81148eaf6a124593a6ee9260dab775e9",
            "1f607e14ac2a427bb2ec950a61655f46",
            "0b2d6005ecad457e8c965268cdeea012",
            "bf350aba4dc842edaef24727680e2bf4",
            "679afd8e054d49e79b5a239f19e19427",
            "0304e4048d534d4d9535827c44547ce6"
          ]
        },
        "id": "O8u3VdzTPf0k",
        "outputId": "83cdadf4-4bf6-494e-f586-17beab8e92b8"
      },
      "execution_count": 180,
      "outputs": [
        {
          "output_type": "stream",
          "name": "stdout",
          "text": [
            "Tokenizing data...\n"
          ]
        },
        {
          "output_type": "display_data",
          "data": {
            "text/plain": [
              "Map:   0%|          | 0/2194 [00:00<?, ? examples/s]"
            ],
            "application/vnd.jupyter.widget-view+json": {
              "version_major": 2,
              "version_minor": 0,
              "model_id": "b13c84a0a75c4c878e07a853dadb7f1b"
            }
          },
          "metadata": {}
        },
        {
          "output_type": "display_data",
          "data": {
            "text/plain": [
              "Map:   0%|          | 0/100 [00:00<?, ? examples/s]"
            ],
            "application/vnd.jupyter.widget-view+json": {
              "version_major": 2,
              "version_minor": 0,
              "model_id": "661fc757d04648df8ce8675496028c13"
            }
          },
          "metadata": {}
        }
      ]
    },
    {
      "cell_type": "code",
      "source": [
        "# Step 3: Fine-tune model\n",
        "print(\"Fine-tuning T5 model...\")\n",
        "model, trainer = fine_tune_model(train_dataset, val_dataset)\n",
        "model.to(device)"
      ],
      "metadata": {
        "colab": {
          "base_uri": "https://localhost:8080/",
          "height": 1000
        },
        "id": "44fC7UAHiOnk",
        "outputId": "4a971154-07ed-4256-f275-272ae5d4b53a"
      },
      "execution_count": 181,
      "outputs": [
        {
          "output_type": "stream",
          "name": "stdout",
          "text": [
            "Fine-tuning T5 model...\n"
          ]
        },
        {
          "output_type": "display_data",
          "data": {
            "text/plain": [
              "<IPython.core.display.HTML object>"
            ],
            "text/html": [
              "\n",
              "    <div>\n",
              "      \n",
              "      <progress value='1375' max='1375' style='width:300px; height:20px; vertical-align: middle;'></progress>\n",
              "      [1375/1375 14:42, Epoch 5/5]\n",
              "    </div>\n",
              "    <table border=\"1\" class=\"dataframe\">\n",
              "  <thead>\n",
              " <tr style=\"text-align: left;\">\n",
              "      <th>Epoch</th>\n",
              "      <th>Training Loss</th>\n",
              "      <th>Validation Loss</th>\n",
              "    </tr>\n",
              "  </thead>\n",
              "  <tbody>\n",
              "    <tr>\n",
              "      <td>1</td>\n",
              "      <td>1.478800</td>\n",
              "      <td>1.311178</td>\n",
              "    </tr>\n",
              "    <tr>\n",
              "      <td>2</td>\n",
              "      <td>1.393400</td>\n",
              "      <td>1.190437</td>\n",
              "    </tr>\n",
              "    <tr>\n",
              "      <td>3</td>\n",
              "      <td>1.278900</td>\n",
              "      <td>1.143837</td>\n",
              "    </tr>\n",
              "    <tr>\n",
              "      <td>4</td>\n",
              "      <td>1.311000</td>\n",
              "      <td>1.127236</td>\n",
              "    </tr>\n",
              "    <tr>\n",
              "      <td>5</td>\n",
              "      <td>1.280000</td>\n",
              "      <td>1.125167</td>\n",
              "    </tr>\n",
              "  </tbody>\n",
              "</table><p>"
            ]
          },
          "metadata": {}
        },
        {
          "output_type": "stream",
          "name": "stderr",
          "text": [
            "There were missing keys in the checkpoint model loaded: ['encoder.embed_tokens.weight', 'decoder.embed_tokens.weight', 'lm_head.weight'].\n"
          ]
        },
        {
          "output_type": "execute_result",
          "data": {
            "text/plain": [
              "T5ForConditionalGeneration(\n",
              "  (shared): Embedding(32128, 768)\n",
              "  (encoder): T5Stack(\n",
              "    (embed_tokens): Embedding(32128, 768)\n",
              "    (block): ModuleList(\n",
              "      (0): T5Block(\n",
              "        (layer): ModuleList(\n",
              "          (0): T5LayerSelfAttention(\n",
              "            (SelfAttention): T5Attention(\n",
              "              (q): Linear(in_features=768, out_features=768, bias=False)\n",
              "              (k): Linear(in_features=768, out_features=768, bias=False)\n",
              "              (v): Linear(in_features=768, out_features=768, bias=False)\n",
              "              (o): Linear(in_features=768, out_features=768, bias=False)\n",
              "              (relative_attention_bias): Embedding(32, 12)\n",
              "            )\n",
              "            (layer_norm): T5LayerNorm()\n",
              "            (dropout): Dropout(p=0.1, inplace=False)\n",
              "          )\n",
              "          (1): T5LayerFF(\n",
              "            (DenseReluDense): T5DenseActDense(\n",
              "              (wi): Linear(in_features=768, out_features=3072, bias=False)\n",
              "              (wo): Linear(in_features=3072, out_features=768, bias=False)\n",
              "              (dropout): Dropout(p=0.1, inplace=False)\n",
              "              (act): ReLU()\n",
              "            )\n",
              "            (layer_norm): T5LayerNorm()\n",
              "            (dropout): Dropout(p=0.1, inplace=False)\n",
              "          )\n",
              "        )\n",
              "      )\n",
              "      (1-11): 11 x T5Block(\n",
              "        (layer): ModuleList(\n",
              "          (0): T5LayerSelfAttention(\n",
              "            (SelfAttention): T5Attention(\n",
              "              (q): Linear(in_features=768, out_features=768, bias=False)\n",
              "              (k): Linear(in_features=768, out_features=768, bias=False)\n",
              "              (v): Linear(in_features=768, out_features=768, bias=False)\n",
              "              (o): Linear(in_features=768, out_features=768, bias=False)\n",
              "            )\n",
              "            (layer_norm): T5LayerNorm()\n",
              "            (dropout): Dropout(p=0.1, inplace=False)\n",
              "          )\n",
              "          (1): T5LayerFF(\n",
              "            (DenseReluDense): T5DenseActDense(\n",
              "              (wi): Linear(in_features=768, out_features=3072, bias=False)\n",
              "              (wo): Linear(in_features=3072, out_features=768, bias=False)\n",
              "              (dropout): Dropout(p=0.1, inplace=False)\n",
              "              (act): ReLU()\n",
              "            )\n",
              "            (layer_norm): T5LayerNorm()\n",
              "            (dropout): Dropout(p=0.1, inplace=False)\n",
              "          )\n",
              "        )\n",
              "      )\n",
              "    )\n",
              "    (final_layer_norm): T5LayerNorm()\n",
              "    (dropout): Dropout(p=0.1, inplace=False)\n",
              "  )\n",
              "  (decoder): T5Stack(\n",
              "    (embed_tokens): Embedding(32128, 768)\n",
              "    (block): ModuleList(\n",
              "      (0): T5Block(\n",
              "        (layer): ModuleList(\n",
              "          (0): T5LayerSelfAttention(\n",
              "            (SelfAttention): T5Attention(\n",
              "              (q): Linear(in_features=768, out_features=768, bias=False)\n",
              "              (k): Linear(in_features=768, out_features=768, bias=False)\n",
              "              (v): Linear(in_features=768, out_features=768, bias=False)\n",
              "              (o): Linear(in_features=768, out_features=768, bias=False)\n",
              "              (relative_attention_bias): Embedding(32, 12)\n",
              "            )\n",
              "            (layer_norm): T5LayerNorm()\n",
              "            (dropout): Dropout(p=0.1, inplace=False)\n",
              "          )\n",
              "          (1): T5LayerCrossAttention(\n",
              "            (EncDecAttention): T5Attention(\n",
              "              (q): Linear(in_features=768, out_features=768, bias=False)\n",
              "              (k): Linear(in_features=768, out_features=768, bias=False)\n",
              "              (v): Linear(in_features=768, out_features=768, bias=False)\n",
              "              (o): Linear(in_features=768, out_features=768, bias=False)\n",
              "            )\n",
              "            (layer_norm): T5LayerNorm()\n",
              "            (dropout): Dropout(p=0.1, inplace=False)\n",
              "          )\n",
              "          (2): T5LayerFF(\n",
              "            (DenseReluDense): T5DenseActDense(\n",
              "              (wi): Linear(in_features=768, out_features=3072, bias=False)\n",
              "              (wo): Linear(in_features=3072, out_features=768, bias=False)\n",
              "              (dropout): Dropout(p=0.1, inplace=False)\n",
              "              (act): ReLU()\n",
              "            )\n",
              "            (layer_norm): T5LayerNorm()\n",
              "            (dropout): Dropout(p=0.1, inplace=False)\n",
              "          )\n",
              "        )\n",
              "      )\n",
              "      (1-11): 11 x T5Block(\n",
              "        (layer): ModuleList(\n",
              "          (0): T5LayerSelfAttention(\n",
              "            (SelfAttention): T5Attention(\n",
              "              (q): Linear(in_features=768, out_features=768, bias=False)\n",
              "              (k): Linear(in_features=768, out_features=768, bias=False)\n",
              "              (v): Linear(in_features=768, out_features=768, bias=False)\n",
              "              (o): Linear(in_features=768, out_features=768, bias=False)\n",
              "            )\n",
              "            (layer_norm): T5LayerNorm()\n",
              "            (dropout): Dropout(p=0.1, inplace=False)\n",
              "          )\n",
              "          (1): T5LayerCrossAttention(\n",
              "            (EncDecAttention): T5Attention(\n",
              "              (q): Linear(in_features=768, out_features=768, bias=False)\n",
              "              (k): Linear(in_features=768, out_features=768, bias=False)\n",
              "              (v): Linear(in_features=768, out_features=768, bias=False)\n",
              "              (o): Linear(in_features=768, out_features=768, bias=False)\n",
              "            )\n",
              "            (layer_norm): T5LayerNorm()\n",
              "            (dropout): Dropout(p=0.1, inplace=False)\n",
              "          )\n",
              "          (2): T5LayerFF(\n",
              "            (DenseReluDense): T5DenseActDense(\n",
              "              (wi): Linear(in_features=768, out_features=3072, bias=False)\n",
              "              (wo): Linear(in_features=3072, out_features=768, bias=False)\n",
              "              (dropout): Dropout(p=0.1, inplace=False)\n",
              "              (act): ReLU()\n",
              "            )\n",
              "            (layer_norm): T5LayerNorm()\n",
              "            (dropout): Dropout(p=0.1, inplace=False)\n",
              "          )\n",
              "        )\n",
              "      )\n",
              "    )\n",
              "    (final_layer_norm): T5LayerNorm()\n",
              "    (dropout): Dropout(p=0.1, inplace=False)\n",
              "  )\n",
              "  (lm_head): Linear(in_features=768, out_features=32128, bias=False)\n",
              ")"
            ]
          },
          "metadata": {},
          "execution_count": 181
        }
      ]
    },
    {
      "cell_type": "code",
      "source": [
        "# Step 4: Evaluate model\n",
        "print(\"Evaluating model...\")\n",
        "bleu_score, predictions, references, bleu_scores = evaluate_model(model, tokenizer, val_df)\n",
        "print(f\"Overall BLEU Score: {bleu_score['bleu']}\")"
      ],
      "metadata": {
        "colab": {
          "base_uri": "https://localhost:8080/"
        },
        "id": "jq0dhxz6iS-J",
        "outputId": "fbe9484e-b76e-4842-ffa6-07614da8fd55"
      },
      "execution_count": 184,
      "outputs": [
        {
          "output_type": "stream",
          "name": "stdout",
          "text": [
            "Evaluating model...\n",
            "Overall BLEU Score: 0.1150792707075378\n"
          ]
        }
      ]
    },
    {
      "cell_type": "code",
      "source": [
        "print(\"Generating BLEU score histogram...\")\n",
        "plot_bleu_histogram(bleu_scores)"
      ],
      "metadata": {
        "colab": {
          "base_uri": "https://localhost:8080/",
          "height": 489
        },
        "id": "TgB4Qpi5inFd",
        "outputId": "645d61fe-c203-40d9-afb0-e83554dbe276"
      },
      "execution_count": 185,
      "outputs": [
        {
          "output_type": "stream",
          "name": "stdout",
          "text": [
            "Generating BLEU score histogram...\n"
          ]
        },
        {
          "output_type": "display_data",
          "data": {
            "text/plain": [
              "<Figure size 640x480 with 1 Axes>"
            ],
            "image/png": "[encoded data removed]"
          },
          "metadata": {}
        }
      ]
    },
    {
      "cell_type": "code",
      "source": [
        "print(\"\\nStarting interactive code generator...\")\n",
        "interactive_code_generator(model, tokenizer)"
      ],
      "metadata": {
        "colab": {
          "base_uri": "https://localhost:8080/"
        },
        "id": "JgDtyCYzsv5h",
        "outputId": "8f4969f3-d40f-49f9-e562-088ed8cbd65c"
      },
      "execution_count": 186,
      "outputs": [
        {
          "name": "stdout",
          "output_type": "stream",
          "text": [
            "\n",
            "Starting interactive code generator...\n",
            "Welcome to the T5 Code Generator!\n",
            "Enter a prompt (e.g., 'Write a Python function to calculate factorial'). Type 'exit' to quit.\n",
            "\n",
            "Enter your prompt: Write a Python function to calculate factorial\n"
          ]
        },
        {
          "output_type": "stream",
          "name": "stderr",
          "text": [
            "The following generation flags are not valid and may be ignored: ['top_p']. Set `TRANSFORMERS_VERBOSITY=info` for more details.\n"
          ]
        },
        {
          "name": "stdout",
          "output_type": "stream",
          "text": [
            "\n",
            "Generated Code:\n",
            "def calculate_factorial(self, factororial): \"\"\" Write a Python function to calculate factorial\" if self.results() is not found: id=0, == 0 - np.frequencies(friq) return ff_factory(Freq=False)\n",
            "\n",
            "Enter your prompt: Generate Python Code to detect a Prime Number\n"
          ]
        },
        {
          "output_type": "stream",
          "name": "stderr",
          "text": [
            "The following generation flags are not valid and may be ignored: ['top_p']. Set `TRANSFORMERS_VERBOSITY=info` for more details.\n"
          ]
        },
        {
          "output_type": "stream",
          "name": "stdout",
          "text": [
            "\n",
            "Generated Code:\n",
            "def detect_prime_number(self, PrimeNumber): \"\"\" Generate Python Code to detect a Prime Number\" if self.priority(Principal_Number) is not 0: return Self.PrimaryNUMBER(premium_node)\n",
            "\n",
            "Enter your prompt: exit\n",
            "Exiting code generator.\n"
          ]
        }
      ]
    }
  ]
}